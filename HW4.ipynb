{
 "cells": [
  {
   "cell_type": "markdown",
   "id": "3e0efe5f",
   "metadata": {},
   "source": [
    "# Input data"
   ]
  },
  {
   "cell_type": "markdown",
   "id": "f8ef5d93",
   "metadata": {},
   "source": [
    "documents -- list of all documents\n",
    "\n",
    "shelf -- dictionary of places where the documents are stored"
   ]
  },
  {
   "cell_type": "code",
   "execution_count": 147,
   "id": "af61326b",
   "metadata": {},
   "outputs": [],
   "source": [
    "documents = [\n",
    "{'type': 'passport', 'number': '2207 876234', 'name': 'Василий Гупкин'},\n",
    "{'type': 'invoice', 'number': '11-2', 'name': 'Геннадий Покемонов'},\n",
    "{'type': 'insurance', 'number': '10006', 'name': 'Аристарх Павлов'}\n",
    "]"
   ]
  },
  {
   "cell_type": "code",
   "execution_count": 148,
   "id": "caee8eb4",
   "metadata": {},
   "outputs": [],
   "source": [
    "directories = {\n",
    "'1': ['2207 876234', '11-2'],\n",
    "'2': ['10006'],\n",
    "'3': []\n",
    "}"
   ]
  },
  {
   "cell_type": "markdown",
   "id": "ecd36a3b",
   "metadata": {},
   "source": [
    "# Task 1"
   ]
  },
  {
   "cell_type": "markdown",
   "id": "e2a05065",
   "metadata": {},
   "source": [
    "Input: document number\n",
    "\n",
    "Output: document owner"
   ]
  },
  {
   "cell_type": "code",
   "execution_count": 149,
   "id": "42ed737f",
   "metadata": {},
   "outputs": [],
   "source": [
    "def get_info_from_documents(document_number):\n",
    "    return [doc['type'] for doc in documents if doc['number'] == document_number], \\\n",
    "            [doc['name'] for doc in documents if doc['number'] == document_number]"
   ]
  },
  {
   "cell_type": "code",
   "execution_count": 150,
   "id": "eaa8605f",
   "metadata": {},
   "outputs": [],
   "source": [
    "def display_owner_by_number():\n",
    "    document_number = input(\"Input document number: \")\n",
    "    _, owner = get_info_from_documents(document_number)\n",
    "    \n",
    "    if len(owner) == 1:\n",
    "        print(f'Document owner is {owner[0]}')\n",
    "    elif len(owner) == 0:\n",
    "        print(f'Document {document_number} is not found')"
   ]
  },
  {
   "cell_type": "markdown",
   "id": "88827a7f",
   "metadata": {},
   "source": [
    "# Main part of program"
   ]
  },
  {
   "cell_type": "code",
   "execution_count": 176,
   "id": "02a4ec20",
   "metadata": {},
   "outputs": [],
   "source": [
    "def execute_command(command):\n",
    "    if command == 'p': display_owner_by_number()\n",
    "    if command == 's': display_shelf_by_number()\n",
    "    if command == 'l': display_info_about_documents()\n",
    "    if command == 'ads': add_shelf()\n",
    "    if command == 'ds': delete_shelf()\n",
    "    if command == 'ad': add_document()\n",
    "    if command == 'd': delete_document()\n",
    "    if command == 'm': move_document()"
   ]
  },
  {
   "cell_type": "code",
   "execution_count": null,
   "id": "02568063",
   "metadata": {},
   "outputs": [
    {
     "name": "stdout",
     "output_type": "stream",
     "text": [
      "Input command: m\n",
      "Input document number2207\n",
      "Input shelf3\n",
      "Document is not found\n",
      "Current list of documents\n",
      "№2207 876234, type passport, owner Василий Гупкин, shelf 1\n",
      "№10006, type insurance, owner Аристарх Павлов, shelf 2\n",
      "Input command: m\n",
      "Input document number2207 876234\n",
      "Input shelf3\n",
      "Document has moved\n",
      "Current list of documents\n",
      "№2207 876234, type passport, owner Василий Гупкин, shelf 3\n",
      "№10006, type insurance, owner Аристарх Павлов, shelf 2\n",
      "Input command: m\n",
      "Input document number56\n",
      "Input shelf1\n",
      "Document is not found\n",
      "Current list of documents\n",
      "№2207 876234, type passport, owner Василий Гупкин, shelf 3\n",
      "№10006, type insurance, owner Аристарх Павлов, shelf 2\n",
      "Input command: m\n",
      "Input document number2207 876234\n",
      "Input shelf8\n",
      "Shelf not exists\n",
      "Current list of shelves: 1, 2, 3\n"
     ]
    }
   ],
   "source": [
    "input_command = None\n",
    "while input_command != 'q':\n",
    "    input_command = input('Input command: ')\n",
    "    execute_command(input_command)"
   ]
  },
  {
   "cell_type": "code",
   "execution_count": null,
   "id": "3e9a4c55",
   "metadata": {},
   "outputs": [],
   "source": []
  }
 ],
 "metadata": {
  "kernelspec": {
   "display_name": "Python 3 (ipykernel)",
   "language": "python",
   "name": "python3"
  },
  "language_info": {
   "codemirror_mode": {
    "name": "ipython",
    "version": 3
   },
   "file_extension": ".py",
   "mimetype": "text/x-python",
   "name": "python",
   "nbconvert_exporter": "python",
   "pygments_lexer": "ipython3",
   "version": "3.9.7"
  }
 },
 "nbformat": 4,
 "nbformat_minor": 5
}
